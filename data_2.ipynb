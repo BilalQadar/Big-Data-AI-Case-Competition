{
 "cells": [
  {
   "cell_type": "code",
   "execution_count": 1,
   "metadata": {},
   "outputs": [],
   "source": [
    "import pandas as pd \n",
    "import numpy as np\n",
    "import math\n",
    "from datetime import datetime"
   ]
  },
  {
   "cell_type": "code",
   "execution_count": 7,
   "metadata": {},
   "outputs": [],
   "source": [
    "data = pd.read_csv(\"fakeEmt.csv\")"
   ]
  },
  {
   "cell_type": "code",
   "execution_count": 8,
   "metadata": {},
   "outputs": [
    {
     "data": {
      "text/html": [
       "<div>\n",
       "<style scoped>\n",
       "    .dataframe tbody tr th:only-of-type {\n",
       "        vertical-align: middle;\n",
       "    }\n",
       "\n",
       "    .dataframe tbody tr th {\n",
       "        vertical-align: top;\n",
       "    }\n",
       "\n",
       "    .dataframe thead th {\n",
       "        text-align: right;\n",
       "    }\n",
       "</style>\n",
       "<table border=\"1\" class=\"dataframe\">\n",
       "  <thead>\n",
       "    <tr style=\"text-align: right;\">\n",
       "      <th></th>\n",
       "      <th>senderAccountNumber</th>\n",
       "      <th>senderBank</th>\n",
       "      <th>senderLatitude</th>\n",
       "      <th>senderLongitude</th>\n",
       "      <th>senderPostalCode</th>\n",
       "      <th>senderISP</th>\n",
       "      <th>receiverEmail</th>\n",
       "      <th>receiverBank</th>\n",
       "      <th>timestamp</th>\n",
       "      <th>money_amount</th>\n",
       "      <th>currency</th>\n",
       "    </tr>\n",
       "  </thead>\n",
       "  <tbody>\n",
       "    <tr>\n",
       "      <th>0</th>\n",
       "      <td>34589061912</td>\n",
       "      <td>Bank_A</td>\n",
       "      <td>53.521483</td>\n",
       "      <td>-113.581564</td>\n",
       "      <td>T5R1J2</td>\n",
       "      <td>Cable Cable</td>\n",
       "      <td>Christy_Kesson@hotmail.com.mx</td>\n",
       "      <td>Bank_E</td>\n",
       "      <td>2018-06-01 19:02:54.026-0400</td>\n",
       "      <td>500</td>\n",
       "      <td>CAD</td>\n",
       "    </tr>\n",
       "    <tr>\n",
       "      <th>1</th>\n",
       "      <td>34589061912</td>\n",
       "      <td>Bank_A</td>\n",
       "      <td>53.521483</td>\n",
       "      <td>-113.581564</td>\n",
       "      <td>T5R1J2</td>\n",
       "      <td>Virgin Mobile</td>\n",
       "      <td>Mathew_Shorr@wanadoo.co.uk</td>\n",
       "      <td>Bank_E</td>\n",
       "      <td>2018-02-28 23:06:24.520-0500</td>\n",
       "      <td>250</td>\n",
       "      <td>CAD</td>\n",
       "    </tr>\n",
       "    <tr>\n",
       "      <th>2</th>\n",
       "      <td>34589061912</td>\n",
       "      <td>Bank_A</td>\n",
       "      <td>53.521483</td>\n",
       "      <td>-113.581564</td>\n",
       "      <td>T5R1J2</td>\n",
       "      <td>Cable Cable</td>\n",
       "      <td>Mathew_Shorr@wanadoo.co.uk</td>\n",
       "      <td>Bank_E</td>\n",
       "      <td>2018-06-27 19:37:33.822-0400</td>\n",
       "      <td>1500</td>\n",
       "      <td>CAD</td>\n",
       "    </tr>\n",
       "    <tr>\n",
       "      <th>3</th>\n",
       "      <td>34589061912</td>\n",
       "      <td>Bank_A</td>\n",
       "      <td>53.521483</td>\n",
       "      <td>-113.581564</td>\n",
       "      <td>T5R1J2</td>\n",
       "      <td>Cable Cable</td>\n",
       "      <td>Mathew_Shorr@wanadoo.co.uk</td>\n",
       "      <td>Bank_E</td>\n",
       "      <td>2017-11-29 10:48:14.105-0500</td>\n",
       "      <td>100</td>\n",
       "      <td>CAD</td>\n",
       "    </tr>\n",
       "    <tr>\n",
       "      <th>4</th>\n",
       "      <td>34589061912</td>\n",
       "      <td>Bank_A</td>\n",
       "      <td>53.521483</td>\n",
       "      <td>-113.581564</td>\n",
       "      <td>T5R1J2</td>\n",
       "      <td>Cable Cable</td>\n",
       "      <td>Mathew_Shorr@wanadoo.co.uk</td>\n",
       "      <td>Bank_E</td>\n",
       "      <td>2017-11-24 21:15:17.010-0500</td>\n",
       "      <td>50</td>\n",
       "      <td>CAD</td>\n",
       "    </tr>\n",
       "  </tbody>\n",
       "</table>\n",
       "</div>"
      ],
      "text/plain": [
       "   senderAccountNumber senderBank  senderLatitude  senderLongitude  \\\n",
       "0          34589061912     Bank_A       53.521483      -113.581564   \n",
       "1          34589061912     Bank_A       53.521483      -113.581564   \n",
       "2          34589061912     Bank_A       53.521483      -113.581564   \n",
       "3          34589061912     Bank_A       53.521483      -113.581564   \n",
       "4          34589061912     Bank_A       53.521483      -113.581564   \n",
       "\n",
       "  senderPostalCode      senderISP                  receiverEmail receiverBank  \\\n",
       "0           T5R1J2    Cable Cable  Christy_Kesson@hotmail.com.mx       Bank_E   \n",
       "1           T5R1J2  Virgin Mobile     Mathew_Shorr@wanadoo.co.uk       Bank_E   \n",
       "2           T5R1J2    Cable Cable     Mathew_Shorr@wanadoo.co.uk       Bank_E   \n",
       "3           T5R1J2    Cable Cable     Mathew_Shorr@wanadoo.co.uk       Bank_E   \n",
       "4           T5R1J2    Cable Cable     Mathew_Shorr@wanadoo.co.uk       Bank_E   \n",
       "\n",
       "                      timestamp money_amount currency  \n",
       "0  2018-06-01 19:02:54.026-0400          500      CAD  \n",
       "1  2018-02-28 23:06:24.520-0500          250      CAD  \n",
       "2  2018-06-27 19:37:33.822-0400         1500      CAD  \n",
       "3  2017-11-29 10:48:14.105-0500          100      CAD  \n",
       "4  2017-11-24 21:15:17.010-0500           50      CAD  "
      ]
     },
     "execution_count": 8,
     "metadata": {},
     "output_type": "execute_result"
    }
   ],
   "source": [
    "data.groupby(\"senderAccountNumber\")\n",
    "data.head()"
   ]
  },
  {
   "cell_type": "code",
   "execution_count": 9,
   "metadata": {},
   "outputs": [
    {
     "data": {
      "text/html": [
       "<div>\n",
       "<style scoped>\n",
       "    .dataframe tbody tr th:only-of-type {\n",
       "        vertical-align: middle;\n",
       "    }\n",
       "\n",
       "    .dataframe tbody tr th {\n",
       "        vertical-align: top;\n",
       "    }\n",
       "\n",
       "    .dataframe thead th {\n",
       "        text-align: right;\n",
       "    }\n",
       "</style>\n",
       "<table border=\"1\" class=\"dataframe\">\n",
       "  <thead>\n",
       "    <tr style=\"text-align: right;\">\n",
       "      <th></th>\n",
       "    </tr>\n",
       "  </thead>\n",
       "  <tbody>\n",
       "  </tbody>\n",
       "</table>\n",
       "</div>"
      ],
      "text/plain": [
       "Empty DataFrame\n",
       "Columns: []\n",
       "Index: []"
      ]
     },
     "execution_count": 9,
     "metadata": {},
     "output_type": "execute_result"
    }
   ],
   "source": [
    "data_new = pd.DataFrame()\n",
    "data_new.head()"
   ]
  },
  {
   "cell_type": "code",
   "execution_count": 18,
   "metadata": {},
   "outputs": [
    {
     "data": {
      "text/plain": [
       "34589061912"
      ]
     },
     "execution_count": 18,
     "metadata": {},
     "output_type": "execute_result"
    }
   ],
   "source": [
    "data.iloc[0][0]"
   ]
  },
  {
   "cell_type": "code",
   "execution_count": 25,
   "metadata": {},
   "outputs": [],
   "source": [
    "def populate_keys(x,h_map):\n",
    "    if x.iloc[0] not in h_map: \n",
    "        h_map[x.iloc[0]] = \"\"\n",
    "    return (h_map,x)"
   ]
  },
  {
   "cell_type": "code",
   "execution_count": 33,
   "metadata": {},
   "outputs": [
    {
     "data": {
      "text/html": [
       "<div>\n",
       "<style scoped>\n",
       "    .dataframe tbody tr th:only-of-type {\n",
       "        vertical-align: middle;\n",
       "    }\n",
       "\n",
       "    .dataframe tbody tr th {\n",
       "        vertical-align: top;\n",
       "    }\n",
       "\n",
       "    .dataframe thead th {\n",
       "        text-align: right;\n",
       "    }\n",
       "</style>\n",
       "<table border=\"1\" class=\"dataframe\">\n",
       "  <thead>\n",
       "    <tr style=\"text-align: right;\">\n",
       "      <th></th>\n",
       "    </tr>\n",
       "  </thead>\n",
       "  <tbody>\n",
       "  </tbody>\n",
       "</table>\n",
       "</div>"
      ],
      "text/plain": [
       "Empty DataFrame\n",
       "Columns: []\n",
       "Index: []"
      ]
     },
     "execution_count": 33,
     "metadata": {},
     "output_type": "execute_result"
    }
   ],
   "source": []
  },
  {
   "cell_type": "code",
   "execution_count": null,
   "metadata": {},
   "outputs": [],
   "source": []
  }
 ],
 "metadata": {
  "kernelspec": {
   "display_name": "Python 3",
   "language": "python",
   "name": "python3"
  },
  "language_info": {
   "codemirror_mode": {
    "name": "ipython",
    "version": 3
   },
   "file_extension": ".py",
   "mimetype": "text/x-python",
   "name": "python",
   "nbconvert_exporter": "python",
   "pygments_lexer": "ipython3",
   "version": "3.6.5"
  }
 },
 "nbformat": 4,
 "nbformat_minor": 4
}
